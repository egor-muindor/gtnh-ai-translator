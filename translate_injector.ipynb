{
 "cells": [
  {
   "metadata": {},
   "cell_type": "markdown",
   "source": "Модуль внедрения перевода в исходный template.lang",
   "id": "5e5a229fa650b391"
  },
  {
   "cell_type": "code",
   "id": "initial_id",
   "metadata": {
    "collapsed": true
   },
   "source": "import sqlite3",
   "outputs": [],
   "execution_count": null
  },
  {
   "metadata": {},
   "cell_type": "code",
   "source": [
    "def get_by_id(id: str) -> dict:\n",
    "    conn = sqlite3.connect('translate.db')\n",
    "    cursor = conn.cursor()\n",
    "    cursor.execute(f\"SELECT target_title, target_desc FROM translate WHERE id = '{id}'\")\n",
    "    row = cursor.fetchone()\n",
    "    conn.close()\n",
    "    if row:\n",
    "        return {\"target_name\": row[0], \"target_desc\": row[1]}\n",
    "    return {}"
   ],
   "id": "a96f40d13767e571",
   "outputs": [],
   "execution_count": null
  },
  {
   "metadata": {},
   "cell_type": "code",
   "source": [
    "def translate_file(file_path: str) -> None:\n",
    "    with open(file_path, 'r', encoding='utf-8') as file:\n",
    "        lines = file.readlines()\n",
    "    with open(file_path+\".translated\", 'w', encoding='utf-8') as file:\n",
    "        for line in lines:\n",
    "            if \"=\" in line:\n",
    "                key, value = line.split(\"=\", 1)\n",
    "                key = key.strip()\n",
    "                value = value.strip()\n",
    "                if key.endswith(\"name\") or key.endswith(\"desc\"):\n",
    "                    translation = get_by_id('.'.join(key.split(\".\")[:-1]))\n",
    "                    if translation:\n",
    "                        value = translation[f'target_{key.split(\".\")[-1]}']\n",
    "                file.write(f\"{key}={value}\\n\")\n",
    "            else:\n",
    "                file.write(line)"
   ],
   "id": "a133b455cb8230ea",
   "outputs": [],
   "execution_count": null
  },
  {
   "metadata": {},
   "cell_type": "code",
   "source": "translate_file(\"data/template.lang\")",
   "id": "f63abe85c68aed0b",
   "outputs": [],
   "execution_count": null
  }
 ],
 "metadata": {
  "kernelspec": {
   "display_name": "Python 3",
   "language": "python",
   "name": "python3"
  },
  "language_info": {
   "codemirror_mode": {
    "name": "ipython",
    "version": 2
   },
   "file_extension": ".py",
   "mimetype": "text/x-python",
   "name": "python",
   "nbconvert_exporter": "python",
   "pygments_lexer": "ipython2",
   "version": "2.7.6"
  }
 },
 "nbformat": 4,
 "nbformat_minor": 5
}
