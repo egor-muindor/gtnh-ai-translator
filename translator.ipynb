{
 "cells": [
  {
   "metadata": {},
   "cell_type": "markdown",
   "source": "Модуль перевода",
   "id": "6f56b81a6ec85277"
  },
  {
   "cell_type": "code",
   "id": "initial_id",
   "metadata": {
    "collapsed": true
   },
   "source": [
    "from openai import OpenAI, AsyncOpenAI\n",
    "import sqlite3\n",
    "import dotenv\n",
    "import os\n",
    "import asyncio"
   ],
   "outputs": [],
   "execution_count": null
  },
  {
   "metadata": {},
   "cell_type": "code",
   "source": [
    "PROMPT = \"\"\"Перевод квестов GregTech New Horizons на русский язык\n",
    "GregTech New Horizons - это модификация для игры Minecraft, которая добавляет множество новых квестов и механик\n",
    "ты мне присылаешь перевод в этом же формате\n",
    "Символы § и % нужно сохранять\n",
    "Перевод должен учитывать специфику игры и не переводить лишнее, а также можно использовать англицизмы, сохранять английские названия предметов, если уместно\n",
    "Будь дружелюбен, сохраняй стиль и тон оригинала, проводи адаптацию, а не просто переводи слово в слово\n",
    "В ответ я хочу получить только лучший перевод\n",
    "Названия модов не переводи\n",
    "Используй общепринятые термины и названия, если они есть, например:\n",
    "End Stone = Эндерняк\n",
    "Heavy Duty Plates = Сверхпрочное покрытие\n",
    "macerate = дробить\n",
    "Void protection = Защита от переполнения\n",
    "Recipe locking = Блокировка рецепта\n",
    "Americium doped Wafer = Америцием легированная вафля\n",
    "Phosphorus doped Wafer = Вафля легированная фосфором\n",
    "Cobaltite = Кобальтин\n",
    "Tier = уровень\n",
    "§split§ - системная метка для разделения текста, сохраняй ее неизменной\"\"\""
   ],
   "id": "2c8b4be4a4f787bb",
   "outputs": [],
   "execution_count": null
  },
  {
   "metadata": {},
   "cell_type": "code",
   "source": [
    "if not dotenv.load_dotenv('.env'):\n",
    "    print('No .env file found')\n",
    "    exit(1)\n",
    "OPENAI_ENDPOINT = os.getenv('OPENAI_ENDPOINT')\n",
    "OPENAI_API_KEY = os.getenv('OPENAI_API_KEY')\n",
    "MODEL_ID = os.getenv('MODEL_ID')\n",
    "if not OPENAI_ENDPOINT or not OPENAI_API_KEY or not MODEL_ID:\n",
    "    print('Missing environment variables')\n",
    "    exit(1)"
   ],
   "id": "9297ea0aa0f7b49d",
   "outputs": [],
   "execution_count": null
  },
  {
   "metadata": {},
   "cell_type": "code",
   "source": [
    "def get_to_translate() -> dict:\n",
    "    conn = sqlite3.connect('translate.db')\n",
    "    conn.row_factory = sqlite3.Row\n",
    "    c = conn.cursor()\n",
    "    c.execute('SELECT id, source_title, source_desc FROM translate WHERE target_title IS NULL LIMIT 1')\n",
    "    row = c.fetchone()\n",
    "    conn.close()\n",
    "    if row:\n",
    "        return dict(row)\n",
    "    return {}\n",
    "\n",
    "def get_to_translate_many() -> list[dict]:\n",
    "    conn = sqlite3.connect('translate.db')\n",
    "    conn.row_factory = sqlite3.Row\n",
    "    c = conn.cursor()\n",
    "    c.execute('SELECT id, source_title, source_desc FROM translate WHERE target_title IS NULL')\n",
    "    rows = c.fetchall()\n",
    "    conn.close()\n",
    "    return [dict(row) for row in rows]"
   ],
   "id": "2affadbf4e05c8d1",
   "outputs": [],
   "execution_count": null
  },
  {
   "metadata": {},
   "cell_type": "code",
   "source": [
    "def update_translation(id: str, target_title: str, target_text: str):\n",
    "    conn = sqlite3.connect('translate.db')\n",
    "    c = conn.cursor()\n",
    "    c.execute('UPDATE translate SET target_title = ?, target_desc = ? WHERE id = ?', (target_title, target_text, id))\n",
    "    conn.commit()\n",
    "    conn.close()"
   ],
   "id": "855731f543062e0c",
   "outputs": [],
   "execution_count": null
  },
  {
   "metadata": {},
   "cell_type": "code",
   "source": [
    "def translate(title: str, text: str) -> tuple[str, str]:\n",
    "    to_translate = '§split§'.join([title, text])\n",
    "    client = OpenAI(api_key=OPENAI_API_KEY, base_url=OPENAI_ENDPOINT)\n",
    "    completion = client.chat.completions.create(model=MODEL_ID,\n",
    "                                   messages=[\n",
    "                                       {'role': 'system', 'content': PROMPT},\n",
    "                                       {'role': 'user', 'content': to_translate}\n",
    "                                   ])\n",
    "\n",
    "    splited = completion.choices[0].message.content.split('§split§', 1)\n",
    "    if len(splited) == 1:\n",
    "        print(completion.choices[0].message.content)\n",
    "        exit(1)\n",
    "    return completion.choices[0].message.content.split('§split§', 1)\n",
    "\n",
    "async def translate_async(title: str, text: str, semaphore: asyncio.Semaphore) -> tuple[str, str]:\n",
    "    async with semaphore:\n",
    "        to_translate = '§split§'.join([title, text])\n",
    "        client = AsyncOpenAI(api_key=OPENAI_API_KEY, base_url=OPENAI_ENDPOINT)\n",
    "        completion = await client.chat.completions.create(model=MODEL_ID,\n",
    "                                       messages=[\n",
    "                                           {'role': 'system', 'content': PROMPT},\n",
    "                                           {'role': 'user', 'content': to_translate}\n",
    "                                       ])\n",
    "        splited = completion.choices[0].message.content.split('§split§', 1)\n",
    "        if len(splited) == 1:\n",
    "            print(completion.choices[0].message.content)\n",
    "            exit(1)\n",
    "        return completion.choices[0].message.content.split('§split§', 1)"
   ],
   "id": "8a362708addab2d0",
   "outputs": [],
   "execution_count": null
  },
  {
   "metadata": {},
   "cell_type": "code",
   "source": [
    "def single_thread_main():\n",
    "    for i in range(4500):\n",
    "        row = get_to_translate()\n",
    "        if not row:\n",
    "            print('Nothing to translate')\n",
    "            exit(0)\n",
    "        \n",
    "        id = row['id']\n",
    "        source_title = row['source_title']\n",
    "        source_desc = row['source_desc']\n",
    "        \n",
    "        print(f'Translating {i}: {source_title}')\n",
    "        target_title, target_text = translate(source_title, source_desc)\n",
    "        \n",
    "        update_translation(id, target_title, target_text)"
   ],
   "id": "f682ab86db3baf1a",
   "outputs": [],
   "execution_count": null
  },
  {
   "metadata": {},
   "cell_type": "code",
   "source": [
    "async def translate_and_save(one_row: dict, semaphore: asyncio.Semaphore):\n",
    "    id = one_row['id']\n",
    "    source_title = one_row['source_title']\n",
    "    source_desc = one_row['source_desc']\n",
    "\n",
    "    target_title, target_text = await translate_async(source_title, source_desc, semaphore)\n",
    "    print(f'Translated {id}: {source_title}')\n",
    "\n",
    "    update_translation(id, target_title, target_text)\n",
    "\n",
    "async def async_main():\n",
    "    import asyncio\n",
    "    rows = get_to_translate_many()\n",
    "    if not rows:\n",
    "        print('Nothing to translate')\n",
    "        exit(0)\n",
    "\n",
    "    semaphore = asyncio.Semaphore(7)\n",
    "    tasks = [translate_and_save(row, semaphore) for row in rows]\n",
    "    await asyncio.gather(*tasks)\n",
    "\n",
    "await async_main()\n",
    "print('All done')"
   ],
   "id": "a1d07db117298b73",
   "outputs": [],
   "execution_count": null
  }
 ],
 "metadata": {
  "kernelspec": {
   "display_name": "Python 3",
   "language": "python",
   "name": "python3"
  },
  "language_info": {
   "codemirror_mode": {
    "name": "ipython",
    "version": 2
   },
   "file_extension": ".py",
   "mimetype": "text/x-python",
   "name": "python",
   "nbconvert_exporter": "python",
   "pygments_lexer": "ipython2",
   "version": "2.7.6"
  }
 },
 "nbformat": 4,
 "nbformat_minor": 5
}
