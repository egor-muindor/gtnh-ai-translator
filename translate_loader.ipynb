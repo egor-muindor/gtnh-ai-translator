{
 "cells": [
  {
   "metadata": {},
   "cell_type": "markdown",
   "source": "Модуль загрузки сорцов из файла для перевода",
   "id": "336d9ab36af20f53"
  },
  {
   "metadata": {},
   "cell_type": "code",
   "source": "import sqlite3",
   "id": "7816f17ee12914b",
   "outputs": [],
   "execution_count": null
  },
  {
   "metadata": {},
   "cell_type": "code",
   "source": [
    "def init_db() -> sqlite3.Connection:\n",
    "    conn = sqlite3.connect('translate.db')\n",
    "    cursor = conn.cursor()\n",
    "    cursor.execute(\n",
    "        \"\"\"CREATE TABLE IF NOT EXISTS translate \n",
    "        (id TEXT PRIMARY KEY, source_title TEXT, source_desc, target_title TEXT, target_desc TEXT)\"\"\")\n",
    "    conn.commit()\n",
    "    return conn\n",
    "\n",
    "def load_sources(conn: sqlite3.Connection):\n",
    "    sources = []\n",
    "    with open('data/template.lang', 'r', encoding='utf-8') as f:\n",
    "        title = ''\n",
    "        desc = ''\n",
    "        source_id = ''\n",
    "        for line in f:\n",
    "            if '=' not in line:\n",
    "                continue\n",
    "            key, value = line.split(sep='=', maxsplit=1)\n",
    "            key, value = key.strip(), value.strip()\n",
    "            if key.endswith('.name'):\n",
    "                title = value\n",
    "                source_id = key[:-5]\n",
    "            elif key.endswith('.desc'):\n",
    "                desc = value\n",
    "\n",
    "            if title and desc:\n",
    "                sources.append((source_id, title, desc))\n",
    "                title = ''\n",
    "                desc = ''\n",
    "                source_id = ''\n",
    "\n",
    "    conn.executemany('INSERT INTO translate (id, source_title, source_desc) VALUES (?, ?, ?)', sources)\n",
    "    conn.commit()\n",
    "    return\n",
    "\n"
   ],
   "id": "da43324b41a0f68f",
   "outputs": [],
   "execution_count": null
  },
  {
   "metadata": {},
   "cell_type": "code",
   "source": [
    "conn = init_db()\n",
    "load_sources(conn)\n",
    "conn.close()"
   ],
   "id": "bec9394b1fabca1d",
   "outputs": [],
   "execution_count": null
  },
  {
   "metadata": {},
   "cell_type": "code",
   "source": "",
   "id": "36ed320eabb3c8eb",
   "outputs": [],
   "execution_count": null
  }
 ],
 "metadata": {
  "kernelspec": {
   "display_name": "Python 3",
   "language": "python",
   "name": "python3"
  },
  "language_info": {
   "codemirror_mode": {
    "name": "ipython",
    "version": 2
   },
   "file_extension": ".py",
   "mimetype": "text/x-python",
   "name": "python",
   "nbconvert_exporter": "python",
   "pygments_lexer": "ipython2",
   "version": "2.7.6"
  }
 },
 "nbformat": 4,
 "nbformat_minor": 5
}
